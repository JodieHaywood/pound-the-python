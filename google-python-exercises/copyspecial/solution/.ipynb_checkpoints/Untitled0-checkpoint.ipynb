{
 "metadata": {
  "name": "",
  "signature": "sha256:fa44c1df38648d02b816f75ce383139c7f9d33110dcc4ba19f9a18a9005cd6e4"
 },
 "nbformat": 3,
 "nbformat_minor": 0,
 "worksheets": []
}