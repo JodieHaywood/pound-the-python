{
 "metadata": {
  "name": ""
 },
 "nbformat": 3,
 "nbformat_minor": 0,
 "worksheets": [
  {
   "cells": [
    {
     "cell_type": "markdown",
     "metadata": {},
     "source": [
      "Functions are cool!\n",
      "\n",
      "just do def"
     ]
    },
    {
     "cell_type": "code",
     "collapsed": false,
     "input": [
      "#its easy to make a function\n",
      "def myFun(words):\n",
      "    print words"
     ],
     "language": "python",
     "metadata": {},
     "outputs": [],
     "prompt_number": 1
    },
    {
     "cell_type": "code",
     "collapsed": false,
     "input": [
      "#its easy to use a functions\n",
      "myFun(words = 'no pants party')"
     ],
     "language": "python",
     "metadata": {},
     "outputs": [
      {
       "output_type": "stream",
       "stream": "stdout",
       "text": [
        "no pants party\n"
       ]
      }
     ],
     "prompt_number": 2
    },
    {
     "cell_type": "markdown",
     "metadata": {},
     "source": [
      "In order to get things out of a function \n",
      "use return..."
     ]
    },
    {
     "cell_type": "code",
     "collapsed": false,
     "input": [
      "def square(x):\n",
      "    return x*x\n",
      "\n",
      "x2 = square(10)\n",
      "print x2"
     ],
     "language": "python",
     "metadata": {},
     "outputs": [
      {
       "output_type": "stream",
       "stream": "stdout",
       "text": [
        "100\n"
       ]
      }
     ],
     "prompt_number": 3
    },
    {
     "cell_type": "markdown",
     "metadata": {},
     "source": [
      "defaluts are super cool!"
     ]
    },
    {
     "cell_type": "code",
     "collapsed": false,
     "input": [
      "def fun(x, y = 3, letter = 'b', tf = True, none = None):\n",
      "    '''also comments are cool! try tabbing in ipyhton to see\n",
      "    what a comment in a function says'''\n",
      "    print 'x = ' + str(x)\n",
      "    print 'x*y = ' + str(x*y)\n",
      "    print 'the letter is: ' + letter\n",
      "    if tf:\n",
      "        print 'the boolean variable is True :-)'\n",
      "    else:\n",
      "        print 'the boolean variable is was not True :-('\n",
      "    if none is not None:\n",
      "        print 'none is not None'\n",
      "        print 'none is : '+str(none)"
     ],
     "language": "python",
     "metadata": {},
     "outputs": [],
     "prompt_number": 4
    },
    {
     "cell_type": "code",
     "collapsed": false,
     "input": [
      "fun(x = 1, none = 15)"
     ],
     "language": "python",
     "metadata": {},
     "outputs": [
      {
       "output_type": "stream",
       "stream": "stdout",
       "text": [
        "x = 1\n",
        "x*y = 3\n",
        "the letter is: b\n",
        "the boolean variable is True :-)\n",
        "none is not None\n",
        "none is : 15\n"
       ]
      }
     ],
     "prompt_number": 6
    },
    {
     "cell_type": "markdown",
     "metadata": {},
     "source": [
      "Lambda functions can be usefull for things ... I guess!"
     ]
    },
    {
     "cell_type": "code",
     "collapsed": false,
     "input": [
      "f = lambda x: x*x\n",
      "f(10)"
     ],
     "language": "python",
     "metadata": {},
     "outputs": [],
     "prompt_number": 7
    },
    {
     "cell_type": "markdown",
     "metadata": {},
     "source": [
      "\n",
      "incomprehensible list comprehensions"
     ]
    },
    {
     "cell_type": "code",
     "collapsed": false,
     "input": [
      "y = [x*x for x in range(10)]\n",
      "y"
     ],
     "language": "python",
     "metadata": {},
     "outputs": [
      {
       "metadata": {},
       "output_type": "pyout",
       "prompt_number": 11,
       "text": [
        "[0, 1, 4, 9, 16, 25, 36, 49, 64, 81]"
       ]
      }
     ],
     "prompt_number": 11
    },
    {
     "cell_type": "code",
     "collapsed": false,
     "input": [],
     "language": "python",
     "metadata": {},
     "outputs": []
    }
   ],
   "metadata": {}
  }
 ]
}