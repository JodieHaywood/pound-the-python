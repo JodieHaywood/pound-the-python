{
 "metadata": {
  "name": ""
 },
 "nbformat": 3,
 "nbformat_minor": 0,
 "worksheets": [
  {
   "cells": [
    {
     "cell_type": "markdown",
     "metadata": {},
     "source": [
      "Python Types:"
     ]
    },
    {
     "cell_type": "code",
     "collapsed": false,
     "input": [
      "s = 'string'\n",
      "print s\n",
      "\n",
      "n = 1234.0\n",
      "print type(n)\n",
      "\n",
      "print int(n)\n",
      "\n",
      "print \"number n has %s digits\" % str(len(str(int(n))))\n"
     ],
     "language": "python",
     "metadata": {},
     "outputs": [
      {
       "output_type": "stream",
       "stream": "stdout",
       "text": [
        "string\n",
        "<type 'float'>\n",
        "1234\n",
        "number n has 4 digits\n"
       ]
      }
     ],
     "prompt_number": 2
    },
    {
     "cell_type": "code",
     "collapsed": false,
     "input": [
      "#List\n",
      "lst = [1,2,3]\n",
      "print lst\n",
      "print lst[0]"
     ],
     "language": "python",
     "metadata": {},
     "outputs": [
      {
       "output_type": "stream",
       "stream": "stdout",
       "text": [
        "[1, 2, 3]\n",
        "1\n"
       ]
      }
     ],
     "prompt_number": 4
    },
    {
     "cell_type": "code",
     "collapsed": false,
     "input": [
      "#touple\n",
      "tpl = (1,2,3)\n",
      "print tpl\n",
      "print tpl[1]\n"
     ],
     "language": "python",
     "metadata": {},
     "outputs": [
      {
       "output_type": "stream",
       "stream": "stdout",
       "text": [
        "(1, 2, 3)\n",
        "2\n"
       ]
      }
     ],
     "prompt_number": 5
    },
    {
     "cell_type": "code",
     "collapsed": false,
     "input": [
      "#dictionary\n",
      "\n",
      "aDict = {'string': 'Yay!', 'number':1234, 'list':[1,2,3,4],'Dict':dict(a = 'a dict in side a dict',b = 'wow!')}\n",
      "aDict\n"
     ],
     "language": "python",
     "metadata": {},
     "outputs": [
      {
       "metadata": {},
       "output_type": "pyout",
       "prompt_number": 7,
       "text": [
        "{'Dict': {'a': 'a dict in side a dict', 'b': 'wow!'},\n",
        " 'list': [1, 2, 3, 4],\n",
        " 'number': 1234,\n",
        " 'string': 'Yay!'}"
       ]
      }
     ],
     "prompt_number": 7
    },
    {
     "cell_type": "markdown",
     "metadata": {},
     "source": [
      "OMG That was sooooo booooorrrinnggggg!!!!\n",
      "\n"
     ]
    },
    {
     "cell_type": "code",
     "collapsed": false,
     "input": [],
     "language": "python",
     "metadata": {},
     "outputs": []
    }
   ],
   "metadata": {}
  }
 ]
}