{
 "metadata": {
  "name": "",
  "signature": "sha256:7b63a7f408bc3ced8c5d42a8f47ca7833a4e30ea1c4d270fb00baf5873a8daf8"
 },
 "nbformat": 3,
 "nbformat_minor": 0,
 "worksheets": [
  {
   "cells": [
    {
     "cell_type": "markdown",
     "metadata": {},
     "source": [
      "What is an object?"
     ]
    },
    {
     "cell_type": "code",
     "collapsed": false,
     "input": [
      "#who cares... just use them for everything!\n",
      "import random\n",
      "\n",
      "#well not really....\n",
      "#Think of objects like things!\n",
      "#Things have properties\n",
      "#and they do stuff\n",
      "class die:\n",
      "    #first every class needs an __init__ method\n",
      "    #__init__ gets run automatically when you instantiate an object\n",
      "    def __init__(self, sides = 6):\n",
      "        '''die represents a single diec\n",
      "        with the propertie of sides\n",
      "        and the method of roll'''\n",
      "        self.sides = sides\n",
      "        \n",
      "    def roll(self):\n",
      "        self.rolled = random.randint(1,self.sides)\n",
      "        print self.rolled\n",
      "    def rolln(self, n = 10):\n",
      "        print [random.randint(1,self.sides) for x in range(n)]"
     ],
     "language": "python",
     "metadata": {},
     "outputs": [],
     "prompt_number": 12
    },
    {
     "cell_type": "code",
     "collapsed": false,
     "input": [
      "myDie = die(sides = 3)\n",
      "myDie.roll()"
     ],
     "language": "python",
     "metadata": {},
     "outputs": [
      {
       "output_type": "stream",
       "stream": "stdout",
       "text": [
        "1\n"
       ]
      }
     ],
     "prompt_number": 13
    },
    {
     "cell_type": "code",
     "collapsed": false,
     "input": [
      "myDie.rolled"
     ],
     "language": "python",
     "metadata": {},
     "outputs": [
      {
       "metadata": {},
       "output_type": "pyout",
       "prompt_number": 3,
       "text": [
        "4"
       ]
      }
     ],
     "prompt_number": 3
    },
    {
     "cell_type": "markdown",
     "metadata": {},
     "source": [
      "Lets roll lots of die"
     ]
    },
    {
     "cell_type": "code",
     "collapsed": false,
     "input": [
      "dieList = [die() for x in range(100000)]"
     ],
     "language": "python",
     "metadata": {},
     "outputs": [],
     "prompt_number": 57
    },
    {
     "cell_type": "code",
     "collapsed": false,
     "input": [
      "Nuthin = [thisDie.roll() for thisDie in dieList]\n",
      "rollList = [thisDie.rolled for thisDie in dieList]\n",
      "rollList[:17]"
     ],
     "language": "python",
     "metadata": {},
     "outputs": [
      {
       "metadata": {},
       "output_type": "pyout",
       "prompt_number": 59,
       "text": [
        "[3, 6, 2, 6, 4, 6, 3, 1, 3, 4, 3, 4, 6, 4, 5, 4, 2]"
       ]
      }
     ],
     "prompt_number": 59
    },
    {
     "cell_type": "markdown",
     "metadata": {},
     "source": [
      "Check out this awesome list comprehension"
     ]
    },
    {
     "cell_type": "code",
     "collapsed": false,
     "input": [
      "\n",
      "#group the list of die in to pairs\n",
      "pairList = [dieList[x:x+2] for x in xrange(0,len(dieList),2)]\n",
      "pairList[0]"
     ],
     "language": "python",
     "metadata": {},
     "outputs": [
      {
       "metadata": {},
       "output_type": "pyout",
       "prompt_number": 60,
       "text": [
        "[<__main__.die instance at 0x10942b758>,\n",
        " <__main__.die instance at 0x10942b830>]"
       ]
      }
     ],
     "prompt_number": 60
    },
    {
     "cell_type": "markdown",
     "metadata": {},
     "source": [
      "now sum the rolls and check out the distribution..."
     ]
    },
    {
     "cell_type": "code",
     "collapsed": false,
     "input": [
      "doubleRollList = [diePair[0].rolled + diePair[1].rolled for diePair in pairList]"
     ],
     "language": "python",
     "metadata": {},
     "outputs": [],
     "prompt_number": 61
    },
    {
     "cell_type": "markdown",
     "metadata": {},
     "source": [
      "Hey lets plot all them rolls! I hope they are normally distributed, or I don't know how dice work..."
     ]
    },
    {
     "cell_type": "code",
     "collapsed": false,
     "input": [
      "import matplotlib.pyplot as plt\n",
      "%matplotlib inline"
     ],
     "language": "python",
     "metadata": {},
     "outputs": [],
     "prompt_number": 62
    },
    {
     "cell_type": "markdown",
     "metadata": {},
     "source": [
      "oh good, I'm not as dumb as I look..."
     ]
    },
    {
     "cell_type": "code",
     "collapsed": false,
     "input": [
      "plt.hist(doubleRollList, bins = 11)\n",
      "plt.show()"
     ],
     "language": "python",
     "metadata": {},
     "outputs": [
      {
       "metadata": {},
       "output_type": "display_data",
       "png": "[encoded data removed]",
       "text": [
        "<matplotlib.figure.Figure at 0x10aca6c50>"
       ]
      }
     ],
     "prompt_number": 70
    },
    {
     "cell_type": "markdown",
     "metadata": {},
     "source": [
      "Here is a nice little template class that can be used to slove lots of problems!"
     ]
    },
    {
     "cell_type": "code",
     "collapsed": false,
     "input": [
      "class general:\n",
      "    \n",
      "    def __init__(self, param1, param2 = 'string', param3 = None, namedMethod = 'firstMethod', **kwargs):\n",
      "        '''param1 is required\n",
      "        param2 is default to the value \"string\"\n",
      "        param3 is default to None\n",
      "        namedMethod will run general.firstMethod() by default\n",
      "        or you can give it the name of some other method you want to run!\n",
      "        **kwargs along with the initParam method will \n",
      "        let you intantiate any parameter by the name you give it...\n",
      "        obj = general(param1 = 1, x = 1, y = 2, z = 4)\n",
      "        x, y, z will now exist as properties of the instance obj'''\n",
      "        \n",
      "        self.initParam(kwargs)\n",
      "        self.param1 = param1\n",
      "        self.param2 = param2\n",
      "        if param3 is not None:\n",
      "            self.param3 = param3\n",
      "        self.runMethod(method = namedMethod) #this will run the method named in namedMethod\n",
      "        \n",
      "    def initParam(self, kwargs):\n",
      "        '''initalize the given argument structure as properties of the class\n",
      "        to be used by name in specific query execution'''\n",
      "        self.argList = []\n",
      "        for key, value in kwargs.items():\n",
      "            self.argList.append(key)\n",
      "            setattr(self,key,value)\n",
      "\n",
      "    def runMethod(self, method):\n",
      "        '''call the query method by name during the initialization procedure'''\n",
      "        methodToCall = getattr(self, method)\n",
      "        result = methodToCall()\n",
      "        \n",
      "    def firstMethod(self):\n",
      "        '''this method will run by default by calling the runMethod from\n",
      "        the namedMethod argument'''\n",
      "        #do stuff!\n",
      "        print \"stuff got did!\"\n",
      "\n",
      "        \n",
      "        \n",
      "        "
     ],
     "language": "python",
     "metadata": {},
     "outputs": [],
     "prompt_number": 19
    },
    {
     "cell_type": "code",
     "collapsed": false,
     "input": [
      "obj = general(param1 = 1, x = 1, y = 2, z = 3, milkBone = 'MMMM thats good stuff')"
     ],
     "language": "python",
     "metadata": {},
     "outputs": [
      {
       "output_type": "stream",
       "stream": "stdout",
       "text": [
        "stuff got did!\n"
       ]
      }
     ],
     "prompt_number": 20
    },
    {
     "cell_type": "code",
     "collapsed": false,
     "input": [
      "#try tabbing obj.<tab> to see what properties the instance has\n",
      "obj."
     ],
     "language": "python",
     "metadata": {},
     "outputs": [
      {
       "metadata": {},
       "output_type": "pyout",
       "prompt_number": 21,
       "text": [
        "1"
       ]
      }
     ],
     "prompt_number": 21
    }
   ],
   "metadata": {}
  }
 ]
}