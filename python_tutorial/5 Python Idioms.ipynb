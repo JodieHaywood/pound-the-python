{
 "metadata": {
  "name": ""
 },
 "nbformat": 3,
 "nbformat_minor": 0,
 "worksheets": [
  {
   "cells": [
    {
     "cell_type": "heading",
     "level": 1,
     "metadata": {},
     "source": [
      "Python Idioms\n"
     ]
    },
    {
     "cell_type": "markdown",
     "metadata": {},
     "source": [
      "http://safehammad.com/downloads/python-idioms-2014-01-16.pdf"
     ]
    },
    {
     "cell_type": "markdown",
     "metadata": {},
     "source": [
      "Safe Hammad\n",
      "Python Northwest\n",
      "16th January 2014"
     ]
    },
    {
     "cell_type": "heading",
     "level": 3,
     "metadata": {},
     "source": [
      "What is an idiom?\n",
      "\u201cThe specific grammatical, syntactic, and \n",
      "structural character of a given language.\u201d\n",
      "\u201cA commonly used and understood way of \n",
      "expressing an fact, idea or intention.\u201d"
     ]
    },
    {
     "cell_type": "heading",
     "level": 3,
     "metadata": {},
     "source": [
      "Test for \u201ctruthy\u201d and \u201cfalsy\u201d \n",
      "values\n"
     ]
    },
    {
     "cell_type": "raw",
     "metadata": {},
     "source": [
      " if x:\n",
      " if not x:"
     ]
    },
    {
     "cell_type": "code",
     "collapsed": false,
     "input": [
      "#Example\n",
      "# GOOD\n",
      "name = 'Safe'\n",
      "pets = ['Dog', 'Cat', 'Hamster']\n",
      "owners = {'Safe': 'Cat', 'George': 'Dog'}\n",
      "if name and pets and owners:\n",
      "    print 'We have pets!' \n",
      "    \n",
      "    \n",
      "    \n",
      "    \n",
      "# NOT SO GOOD\n",
      "if name != '' and len(pets) > 0 and owners != {}:\n",
      "    print 'We have pets!' \n"
     ],
     "language": "python",
     "metadata": {},
     "outputs": [
      {
       "output_type": "stream",
       "stream": "stdout",
       "text": [
        "We have pets!\n",
        "We have pets!\n"
       ]
      }
     ],
     "prompt_number": 8
    },
    {
     "cell_type": "heading",
     "level": 3,
     "metadata": {},
     "source": [
      "Use \"in\" where possible"
     ]
    },
    {
     "cell_type": "code",
     "collapsed": false,
     "input": [
      "# GOOD\n",
      "name = 'Safe Hammad'\n",
      "if 'H' in name:\n",
      "    print 'This name has an H in it!'\n",
      "    \n",
      "    \n",
      "    \n",
      "    \n",
      "# NOT SO GOOD\n",
      "name = 'Safe Hammad'\n",
      "if name.find('H') != -1:\n",
      "    print 'This name has an H in it!'\n"
     ],
     "language": "python",
     "metadata": {},
     "outputs": [
      {
       "output_type": "stream",
       "stream": "stdout",
       "text": [
        "This name has an H in it!\n",
        "This name has an H in it!\n"
       ]
      }
     ],
     "prompt_number": 9
    },
    {
     "cell_type": "code",
     "collapsed": false,
     "input": [
      "# GOOD\n",
      "pets = ['Dog', 'Cat', 'Hamster']\n",
      "for pet in pets:\n",
      "    print('A', pet, 'can be very cute!')\n",
      "    \n",
      "    \n",
      "    \n",
      "# NOT SO GOOD\n",
      "pets = ['Dog', 'Cat', 'Hamster']\n",
      "i = 0\n",
      "while i < len(pets):\n",
      "    print('A', pets[i], 'can be very cute!')\n",
      "    i += 1"
     ],
     "language": "python",
     "metadata": {},
     "outputs": [
      {
       "output_type": "stream",
       "stream": "stdout",
       "text": [
        "('A', 'Dog', 'can be very cute!')\n",
        "('A', 'Cat', 'can be very cute!')\n",
        "('A', 'Hamster', 'can be very cute!')\n",
        "('A', 'Dog', 'can be very cute!')\n",
        "('A', 'Cat', 'can be very cute!')\n",
        "('A', 'Hamster', 'can be very cute!')\n"
       ]
      }
     ],
     "prompt_number": 10
    },
    {
     "cell_type": "heading",
     "level": 2,
     "metadata": {},
     "source": [
      "Swap values without temp \n",
      "variable\n"
     ]
    },
    {
     "cell_type": "code",
     "collapsed": false,
     "input": [
      "# GOOD\n",
      "a, b = 5, 6\n",
      "print(a, b) # 5, 6\n",
      "a, b = b, a\n",
      "print(a, b) # 6, 5\n",
      "\n",
      "# NOT SO GOOD\n",
      "a, b = 5, 6\n",
      "print(a, b) # 5, 6\n",
      "\n",
      "temp = a\n",
      "a = b\n",
      "b = temp\n",
      "print(a, b) # 6, 5"
     ],
     "language": "python",
     "metadata": {},
     "outputs": [
      {
       "output_type": "stream",
       "stream": "stdout",
       "text": [
        "(5, 6)\n",
        "(6, 5)\n",
        "(5, 6)\n",
        "(6, 5)\n"
       ]
      }
     ],
     "prompt_number": 11
    },
    {
     "cell_type": "heading",
     "level": 2,
     "metadata": {},
     "source": [
      "Build strings using sequence"
     ]
    },
    {
     "cell_type": "code",
     "collapsed": false,
     "input": [
      "# GOOD\n",
      "chars = ['S', 'a', 'f', 'e']\n",
      "name = ''.join(chars)\n",
      "print name # Safe\n",
      "\n",
      "\n",
      "\n",
      "# NOT SO GOOD\n",
      "chars = ['S', 'a', 'f', 'e']\n",
      "name = ''\n",
      "for char in chars:\n",
      "    name += char\n",
      "print name # Safe\n"
     ],
     "language": "python",
     "metadata": {},
     "outputs": [
      {
       "output_type": "stream",
       "stream": "stdout",
       "text": [
        "Safe\n",
        "Safe\n"
       ]
      }
     ],
     "prompt_number": 14
    },
    {
     "cell_type": "heading",
     "level": 2,
     "metadata": {},
     "source": [
      "EAFP is preferable to LBYL"
     ]
    },
    {
     "cell_type": "heading",
     "level": 4,
     "metadata": {},
     "source": [
      "\n",
      "\u201cIt's Easier to Ask for Forgiveness than \n",
      "Permission.\u201d\n",
      "\u201cLook Before You Leap\u201d"
     ]
    },
    {
     "cell_type": "code",
     "collapsed": false,
     "input": [
      "# GOOD\n",
      "d = {'x': '5'}\n",
      "try:\n",
      "    value = int(d['x'])\n",
      "except (KeyError, TypeError, ValueError):\n",
      "    value = None\n",
      "print value\n",
      "    \n",
      "# NOT SO GOOD\n",
      "d = {'x': '5'}\n",
      "if 'x' in d and isinstance(d['x'], str) and d['x'].isdigit():\n",
      "    value = int(d['x'])\n",
      "else:\n",
      "    value = None\n",
      "    \n",
      "print value"
     ],
     "language": "python",
     "metadata": {},
     "outputs": [
      {
       "output_type": "stream",
       "stream": "stdout",
       "text": [
        "5\n",
        "5\n"
       ]
      }
     ],
     "prompt_number": 17
    },
    {
     "cell_type": "heading",
     "level": 2,
     "metadata": {},
     "source": [
      "Enumerate"
     ]
    },
    {
     "cell_type": "code",
     "collapsed": false,
     "input": [
      "# GOOD\n",
      "names = ['Safe', 'George', 'Mildred']\n",
      "for i, name in enumerate(names):\n",
      "    print i, name # 0 Safe, 1 George etc.\n",
      "    \n",
      "    \n",
      "# NOT SO GOOD\n",
      "names = ['Safe', 'George', 'Mildred']\n",
      "count = 0\n",
      "for name in names:\n",
      "    print i, name # 0 Safe, 1 George etc.\n",
      "    count += 1"
     ],
     "language": "python",
     "metadata": {},
     "outputs": [
      {
       "output_type": "stream",
       "stream": "stdout",
       "text": [
        "0 Safe\n",
        "1 George\n",
        "2 Mildred\n",
        "2 Safe\n",
        "2 George\n",
        "2 Mildred\n"
       ]
      }
     ],
     "prompt_number": 18
    },
    {
     "cell_type": "heading",
     "level": 2,
     "metadata": {},
     "source": [
      "Build lists using list \n",
      "comprehensions\n"
     ]
    },
    {
     "cell_type": "code",
     "collapsed": false,
     "input": [
      "# GOOD\n",
      "data = [7, 20, 3, 15, 11]\n",
      "result = [i * 3 for i in data if i > 10]\n",
      "print result # [60, 45, 33]\n",
      "\n",
      "\n",
      "# NOT SO GOOD (MOST OF THE TIME)\n",
      "data = [7, 20, 3, 15, 11]\n",
      "result = [] \n",
      "for i in data:\n",
      "    if i > 10:\n",
      "        result.append(i * 3)\n",
      "        print result  # [60, 45, 33]"
     ],
     "language": "python",
     "metadata": {},
     "outputs": [
      {
       "output_type": "stream",
       "stream": "stdout",
       "text": [
        "[60, 45, 33]\n",
        "[60]\n",
        "[60, 45]\n",
        "[60, 45, 33]\n"
       ]
      }
     ],
     "prompt_number": 20
    },
    {
     "cell_type": "heading",
     "level": 2,
     "metadata": {},
     "source": [
      "Create dict from keys and values \n",
      "using zip\n"
     ]
    },
    {
     "cell_type": "code",
     "collapsed": false,
     "input": [
      "# GOOD\n",
      "keys = ['Safe', 'Bob', 'Thomas']\n",
      "values = ['Hammad', 'Builder', 'Engine'] \n",
      "d = dict(zip(keys, values))\n",
      "print d # {'Bob': 'Builder','Safe': 'Hammad','Thomas': 'Engine'}\n",
      "\n",
      "\n",
      "# NOT SO GOOD\n",
      "keys = ['Safe', 'Bob', 'Thomas']\n",
      "values = ['Hammad', 'Builder', 'Engine']\n",
      "d = {}\n",
      "for i, key in enumerate(keys):\n",
      "    d.update({key:values[i]})\n",
      "    print d #{'Bob': 'Builder','Safe': 'Hammad','Thomas': 'Engine'}"
     ],
     "language": "python",
     "metadata": {},
     "outputs": [
      {
       "output_type": "stream",
       "stream": "stdout",
       "text": [
        "{'Bob': 'Builder', 'Safe': 'Hammad', 'Thomas': 'Engine'}\n",
        "{'Safe': 'Hammad'}\n",
        "{'Bob': 'Builder', 'Safe': 'Hammad'}\n",
        "{'Bob': 'Builder', 'Safe': 'Hammad', 'Thomas': 'Engine'}\n"
       ]
      }
     ],
     "prompt_number": 33
    },
    {
     "cell_type": "heading",
     "level": 2,
     "metadata": {},
     "source": [
      "10. And the rest \u2026 !"
     ]
    },
    {
     "cell_type": "raw",
     "metadata": {},
     "source": [
      "while True:\n",
      " break # This will spark discussion!!!\n",
      "\u25cf Generators and generator expressions.\n",
      "\u25cf Avoid from module import *\n",
      "Prefer: import numpy as np; import pandas as pd\n",
      "\u25cf Use _ for \u201cthrowaway\u201d variables e.g.:\n",
      "for k, _ in [('a', 1), ('b', 2), ('c', 3)]\n",
      "\u25cf dict.get() and dict.setdefault() \n",
      "\u25cf collections.defaultdict\n",
      "\u25cf Sort lists using l.sort(key=key_func)"
     ]
    }
   ],
   "metadata": {}
  }
 ]
}