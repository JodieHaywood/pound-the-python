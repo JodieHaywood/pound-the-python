{
 "metadata": {
  "name": "",
  "signature": "sha256:0659585aca08a631e36415e633bfaa25510f3be26bac2bcf07d307f6184f6c5d"
 },
 "nbformat": 3,
 "nbformat_minor": 0,
 "worksheets": [
  {
   "cells": [
    {
     "cell_type": "heading",
     "level": 3,
     "metadata": {},
     "source": [
      "Python Types:"
     ]
    },
    {
     "cell_type": "code",
     "collapsed": false,
     "input": [
      "# Strings\n",
      "x = 'thisisastring'\n",
      "print x\n",
      "print type(x)\n",
      "print ''\n",
      "\n",
      "print x[-7:]\n",
      "print ''\n",
      "\n",
      "for i in x:\n",
      "    print i"
     ],
     "language": "python",
     "metadata": {},
     "outputs": [
      {
       "output_type": "stream",
       "stream": "stdout",
       "text": [
        "thisisastring\n",
        "<type 'str'>\n",
        "\n",
        "astring\n",
        "\n",
        "t\n",
        "h\n",
        "i\n",
        "s\n",
        "i\n",
        "s\n",
        "a\n",
        "s\n",
        "t\n",
        "r\n",
        "i\n",
        "n\n",
        "g\n"
       ]
      }
     ],
     "prompt_number": 1
    },
    {
     "cell_type": "code",
     "collapsed": false,
     "input": [
      "# Floats\n",
      "x = 12345.6\n",
      "print x\n",
      "print type(x)\n",
      "print ''\n",
      "\n",
      "# Ints\n",
      "y = int(x) \n",
      "print y\n",
      "print type(y)\n",
      "print ''\n",
      "\n",
      "# Floats\n",
      "x = float(y)\n",
      "print x\n",
      "print type(x)"
     ],
     "language": "python",
     "metadata": {},
     "outputs": [
      {
       "output_type": "stream",
       "stream": "stdout",
       "text": [
        "12345.6\n",
        "<type 'float'>\n",
        "\n",
        "12345\n",
        "<type 'int'>\n",
        "\n",
        "12345.0\n",
        "<type 'float'>\n"
       ]
      }
     ],
     "prompt_number": 2
    },
    {
     "cell_type": "code",
     "collapsed": false,
     "input": [
      "# Lists\n",
      "x = [1,2,3,4,5,6,7,8,9,10]\n",
      "print x\n",
      "print type(x)\n",
      "print ''\n",
      "\n",
      "print x[-7:]\n",
      "print ''\n",
      "\n",
      "for i in x:\n",
      "    print i\n",
      "print ''\n",
      "\n",
      "x[2] = 'a'\n",
      "print x"
     ],
     "language": "python",
     "metadata": {},
     "outputs": [
      {
       "output_type": "stream",
       "stream": "stdout",
       "text": [
        "[1, 2, 3, 4, 5, 6, 7, 8, 9, 10]\n",
        "<type 'list'>\n",
        "\n",
        "[4, 5, 6, 7, 8, 9, 10]\n",
        "\n",
        "1\n",
        "2\n",
        "3\n",
        "4\n",
        "5\n",
        "6\n",
        "7\n",
        "8\n",
        "9\n",
        "10\n",
        "\n",
        "[1, 2, 'a', 4, 5, 6, 7, 8, 9, 10]\n"
       ]
      }
     ],
     "prompt_number": 3
    },
    {
     "cell_type": "code",
     "collapsed": false,
     "input": [
      "# Tuples\n",
      "x = (1,2,3,4,5,6,7,8,9,10)\n",
      "print x\n",
      "print type(x)\n",
      "print ''\n",
      "\n",
      "print x[-7:]\n",
      "print ''\n",
      "\n",
      "for i in x:\n",
      "    print i\n",
      "\n",
      "# x[2] = 'a'\n",
      "# print x"
     ],
     "language": "python",
     "metadata": {},
     "outputs": [
      {
       "output_type": "stream",
       "stream": "stdout",
       "text": [
        "(1, 2, 3, 4, 5, 6, 7, 8, 9, 10)\n",
        "<type 'tuple'>\n",
        "\n",
        "(4, 5, 6, 7, 8, 9, 10)\n",
        "\n",
        "1\n",
        "2\n",
        "3\n",
        "4\n",
        "5\n",
        "6\n",
        "7\n",
        "8\n",
        "9\n",
        "10\n"
       ]
      }
     ],
     "prompt_number": 4
    },
    {
     "cell_type": "code",
     "collapsed": false,
     "input": [
      "# Dictionaries\n",
      "x = {'string':'Yay!', 'number':1234, 'list':[1,2,3,4], 'Dict':dict(a='a dict in side a dict', b='wow!')}\n",
      "print x\n",
      "print type(x)\n",
      "print ''\n",
      "\n",
      "# print x[-7:]\n",
      "# print ''\n",
      "\n",
      "for i in x:\n",
      "    print i\n",
      "print ''\n",
      "\n",
      "x[2] = 'a'\n",
      "print x"
     ],
     "language": "python",
     "metadata": {},
     "outputs": [
      {
       "output_type": "stream",
       "stream": "stdout",
       "text": [
        "{'Dict': {'a': 'a dict in side a dict', 'b': 'wow!'}, 'list': [1, 2, 3, 4], 'string': 'Yay!', 'number': 1234}\n",
        "<type 'dict'>\n",
        "\n",
        "Dict\n",
        "list\n",
        "string\n",
        "number\n",
        "\n",
        "{'Dict': {'a': 'a dict in side a dict', 'b': 'wow!'}, 2: 'a', 'list': [1, 2, 3, 4], 'string': 'Yay!', 'number': 1234}\n"
       ]
      }
     ],
     "prompt_number": 5
    }
   ],
   "metadata": {}
  }
 ]
}